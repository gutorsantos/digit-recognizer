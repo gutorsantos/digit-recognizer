{
 "cells": [
  {
   "cell_type": "code",
   "execution_count": 77,
   "metadata": {},
   "outputs": [],
   "source": [
    "import numpy as np # linear algebra\n",
    "import pandas as pd # data processing, CSV file I/O (e.g. pd.read_csv)\n",
    "\n",
    "import matplotlib.pyplot as plt\n",
    "import seaborn as sns\n",
    "\n",
    "from sklearn.model_selection import train_test_split\n",
    "from sklearn import metrics\n",
    "from sklearn.metrics import accuracy_score\n",
    "\n",
    "import os\n",
    "\n",
    "import tensorflow as tf\n",
    "from tensorflow import keras\n",
    "from tensorflow.keras import layers\n",
    "from tensorflow.keras import callbacks\n",
    "from tensorflow.keras.models import Model\n",
    "from tensorflow.keras.preprocessing.image import ImageDataGenerator"
   ]
  },
  {
   "cell_type": "code",
   "execution_count": 78,
   "metadata": {},
   "outputs": [],
   "source": [
    "IMG_SIZE = 28\n",
    "IMG_PATH = 'digit-recognizer/'\n",
    "\n",
    "BATCH_SIZE = 64\n",
    "\n",
    "TRAIN_PATH = os.path.join(IMG_PATH+'/train.csv')        # path to train dataset\n",
    "TEST_PATH = os.path.join(IMG_PATH+'/test.csv')         # path to test dataset"
   ]
  },
  {
   "cell_type": "code",
   "execution_count": 79,
   "metadata": {},
   "outputs": [
    {
     "data": {
      "text/plain": [
       "[]"
      ]
     },
     "execution_count": 79,
     "metadata": {},
     "output_type": "execute_result"
    }
   ],
   "source": [
    "tf.config.list_physical_devices('GPU')"
   ]
  },
  {
   "cell_type": "code",
   "execution_count": 80,
   "metadata": {},
   "outputs": [],
   "source": [
    "df_train = pd.read_csv(TRAIN_PATH)\n",
    "df_test = pd.read_csv(TEST_PATH)\n",
    "\n",
    "X = df_train.drop(labels=['label'],axis=1)\n",
    "Y = df_train['label']\n",
    "\n",
    "X = X.values.reshape(-1,28,28,1)\n",
    "Y = tf.keras.utils.to_categorical(Y, num_classes=10)"
   ]
  },
  {
   "cell_type": "code",
   "execution_count": 81,
   "metadata": {},
   "outputs": [],
   "source": [
    "\n",
    "df_test = df_test.values.reshape(-1,28,28,1)\n",
    "df_test = df_test / 255"
   ]
  },
  {
   "cell_type": "code",
   "execution_count": 82,
   "metadata": {},
   "outputs": [],
   "source": [
    "X_train, X_val, y_train, y_val = train_test_split(X, Y, test_size=0.2)\n"
   ]
  },
  {
   "cell_type": "code",
   "execution_count": 83,
   "metadata": {},
   "outputs": [],
   "source": [
    "datagen = ImageDataGenerator(rescale=1./255,\n",
    "                             rotation_range = 0.2,\n",
    "                             zoom_range = 0.1,\n",
    "                             width_shift_range = 0.1,\n",
    "                             height_shift_range = 0.1)\n",
    "\n",
    "X_train_generated = datagen.fit(X_train)"
   ]
  },
  {
   "cell_type": "code",
   "execution_count": 84,
   "metadata": {},
   "outputs": [],
   "source": [
    "def CNN():\n",
    "    inputs = layers.Input(shape=(IMG_SIZE, IMG_SIZE, 1))\n",
    "\n",
    "    # First Conv2d layer\n",
    "    lz = layers.Conv2D(filters=32, kernel_size=5, padding='same')(inputs)\n",
    "    lz = layers.Activation('relu')(lz)\n",
    "    lz = layers.Conv2D(filters=32, kernel_size=5, padding='same')(inputs)\n",
    "    lz = layers.Activation('relu')(lz)\n",
    "    lz = layers.MaxPool2D(pool_size=2)(lz)\n",
    "    lz = layers.Dropout(0.25)(lz)\n",
    "\n",
    "    # Second Conv2d layer\n",
    "    lz = layers.Conv2D(filters=64, kernel_size=3, padding='same')(inputs)\n",
    "    lz = layers.Activation('relu')(lz)\n",
    "    lz = layers.Conv2D(filters=64, kernel_size=3, padding='same')(inputs)\n",
    "    lz = layers.Activation('relu')(lz)\n",
    "    lz = layers.MaxPool2D(pool_size=2, strides=2)(lz)\n",
    "    lz = layers.Dropout(0.25)(lz)\n",
    "    \n",
    "    lz = layers.Flatten()(lz)\n",
    "    lz = layers.Dense(256, activation='relu')(lz)\n",
    "    lz = layers.Activation('relu')(lz)\n",
    "    lz = layers.Dropout(0.25)(lz)\n",
    "    output = layers.Dense(10, activation='softmax')(lz)   # use loss as binary_crossentropy\n",
    "    \n",
    "    model = keras.Model(inputs=[inputs], outputs=output)\n",
    "    \n",
    "    return model\n",
    "    "
   ]
  },
  {
   "cell_type": "code",
   "execution_count": 85,
   "metadata": {},
   "outputs": [
    {
     "name": "stdout",
     "output_type": "stream",
     "text": [
      "Model: \"model\"\n",
      "_________________________________________________________________\n",
      " Layer (type)                Output Shape              Param #   \n",
      "=================================================================\n",
      " input_1 (InputLayer)        [(None, 28, 28, 1)]       0         \n",
      "                                                                 \n",
      " conv2d_3 (Conv2D)           (None, 28, 28, 64)        640       \n",
      "                                                                 \n",
      " activation_3 (Activation)   (None, 28, 28, 64)        0         \n",
      "                                                                 \n",
      " max_pooling2d_1 (MaxPooling  (None, 14, 14, 64)       0         \n",
      " 2D)                                                             \n",
      "                                                                 \n",
      " dropout_1 (Dropout)         (None, 14, 14, 64)        0         \n",
      "                                                                 \n",
      " flatten (Flatten)           (None, 12544)             0         \n",
      "                                                                 \n",
      " dense (Dense)               (None, 256)               3211520   \n",
      "                                                                 \n",
      " activation_4 (Activation)   (None, 256)               0         \n",
      "                                                                 \n",
      " dropout_2 (Dropout)         (None, 256)               0         \n",
      "                                                                 \n",
      " dense_1 (Dense)             (None, 10)                2570      \n",
      "                                                                 \n",
      "=================================================================\n",
      "Total params: 3,214,730\n",
      "Trainable params: 3,214,730\n",
      "Non-trainable params: 0\n",
      "_________________________________________________________________\n"
     ]
    }
   ],
   "source": [
    "keras.backend.clear_session()\n",
    "\n",
    "model = CNN()\n",
    "model.compile(loss='categorical_crossentropy', \n",
    "              optimizer = keras.optimizers.Adam(learning_rate=1e-04), \n",
    "              metrics='categorical_accuracy')\n",
    "\n",
    "model.summary()"
   ]
  },
  {
   "cell_type": "code",
   "execution_count": 86,
   "metadata": {},
   "outputs": [
    {
     "name": "stdout",
     "output_type": "stream",
     "text": [
      "Epoch 1/10\n",
      "525/525 [==============================] - 26s 49ms/step - loss: 1.3599 - categorical_accuracy: 0.8087 - val_loss: 0.2291 - val_categorical_accuracy: 0.9364\n",
      "Epoch 2/10\n",
      "525/525 [==============================] - 22s 42ms/step - loss: 0.3623 - categorical_accuracy: 0.9039 - val_loss: 0.1580 - val_categorical_accuracy: 0.9575\n",
      "Epoch 3/10\n",
      "525/525 [==============================] - 22s 41ms/step - loss: 0.2373 - categorical_accuracy: 0.9341 - val_loss: 0.1195 - val_categorical_accuracy: 0.9642\n",
      "Epoch 4/10\n",
      "525/525 [==============================] - 22s 42ms/step - loss: 0.1693 - categorical_accuracy: 0.9524 - val_loss: 0.1153 - val_categorical_accuracy: 0.9677\n",
      "Epoch 5/10\n",
      "525/525 [==============================] - 21s 41ms/step - loss: 0.1326 - categorical_accuracy: 0.9597 - val_loss: 0.0902 - val_categorical_accuracy: 0.9765\n",
      "Epoch 6/10\n",
      "525/525 [==============================] - 22s 41ms/step - loss: 0.0977 - categorical_accuracy: 0.9717 - val_loss: 0.0945 - val_categorical_accuracy: 0.9781\n",
      "Epoch 7/10\n",
      "525/525 [==============================] - 22s 41ms/step - loss: 0.0735 - categorical_accuracy: 0.9767 - val_loss: 0.0937 - val_categorical_accuracy: 0.9765\n",
      "Epoch 8/10\n",
      "525/525 [==============================] - 22s 41ms/step - loss: 0.0647 - categorical_accuracy: 0.9796 - val_loss: 0.0835 - val_categorical_accuracy: 0.9808\n",
      "Epoch 9/10\n",
      "525/525 [==============================] - 22s 41ms/step - loss: 0.0508 - categorical_accuracy: 0.9832 - val_loss: 0.0848 - val_categorical_accuracy: 0.9818\n",
      "Epoch 10/10\n",
      "525/525 [==============================] - 22s 41ms/step - loss: 0.0463 - categorical_accuracy: 0.9860 - val_loss: 0.0886 - val_categorical_accuracy: 0.9806\n"
     ]
    }
   ],
   "source": [
    "history = model.fit(X_train, y_train,\n",
    "          batch_size = BATCH_SIZE, epochs = 10,\n",
    "          validation_data=(X_val, y_val),\n",
    "          steps_per_epoch=(len(X_train)/BATCH_SIZE),\n",
    "          validation_steps=(len(X_val)/BATCH_SIZE))"
   ]
  },
  {
   "cell_type": "code",
   "execution_count": 87,
   "metadata": {},
   "outputs": [
    {
     "name": "stdout",
     "output_type": "stream",
     "text": [
      "[2 0 9 ... 3 9 2]\n"
     ]
    },
    {
     "data": {
      "image/png": "[encoded data removed]",
      "text/plain": [
       "<Figure size 432x288 with 2 Axes>"
      ]
     },
     "metadata": {
      "needs_background": "light"
     },
     "output_type": "display_data"
    }
   ],
   "source": [
    "y_pred = model.predict(X_val)\n",
    "y_pred = np.argmax(y_pred, axis = 1)\n",
    "\n",
    "from sklearn import metrics\n",
    "sns.heatmap(metrics.confusion_matrix(np.argmax(y_val, axis = 1), y_pred), annot=True, fmt='g')\n",
    "\n",
    "output = model.predict(df_test)\n",
    "results = np.argmax(output, axis = 1)\n",
    "print(results)\n",
    "results = pd.Series(results,name=\"Label\")\n",
    "\n",
    "\n",
    "submission = pd.concat([pd.Series(range(1,28001),name = \"ImageId\"),results],axis = 1)\n",
    "submission.to_csv(\"submission.csv\",index=False)\n"
   ]
  }
 ],
 "metadata": {
  "interpreter": {
   "hash": "37abb685732d43f01566678e0288ac1705c61bdf37639e1ec9b5937750280b08"
  },
  "kernelspec": {
   "display_name": "Python 3.9.7 ('datascience')",
   "language": "python",
   "name": "python3"
  },
  "language_info": {
   "codemirror_mode": {
    "name": "ipython",
    "version": 3
   },
   "file_extension": ".py",
   "mimetype": "text/x-python",
   "name": "python",
   "nbconvert_exporter": "python",
   "pygments_lexer": "ipython3",
   "version": "3.9.7"
  },
  "orig_nbformat": 4
 },
 "nbformat": 4,
 "nbformat_minor": 2
}

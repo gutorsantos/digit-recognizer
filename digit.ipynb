{
 "cells": [
  {
   "cell_type": "code",
   "execution_count": 24,
   "metadata": {},
   "outputs": [],
   "source": [
    "import numpy as np # linear algebra\n",
    "import pandas as pd # data processing, CSV file I/O (e.g. pd.read_csv)\n",
    "\n",
    "import matplotlib.pyplot as plt\n",
    "import seaborn as sns\n",
    "\n",
    "from sklearn.model_selection import train_test_split\n",
    "from sklearn import metrics\n",
    "from sklearn.metrics import accuracy_score\n",
    "\n",
    "import os\n",
    "\n",
    "import tensorflow as tf\n",
    "from tensorflow import keras\n",
    "from tensorflow.keras import layers\n",
    "from tensorflow.keras import callbacks\n",
    "from tensorflow.keras.models import Model\n",
    "from tensorflow.keras.preprocessing.image import ImageDataGenerator"
   ]
  },
  {
   "cell_type": "code",
   "execution_count": 25,
   "metadata": {},
   "outputs": [],
   "source": [
    "IMG_SIZE = 28\n",
    "IMG_PATH = 'digit-recognizer/'\n",
    "\n",
    "BATCH_SIZE = 64\n",
    "\n",
    "TRAIN_PATH = os.path.join(IMG_PATH+'/train.csv')        # path to train dataset\n",
    "TEST_PATH = os.path.join(IMG_PATH+'/test.csv')         # path to test dataset"
   ]
  },
  {
   "cell_type": "code",
   "execution_count": 26,
   "metadata": {},
   "outputs": [
    {
     "data": {
      "text/plain": [
       "[]"
      ]
     },
     "execution_count": 26,
     "metadata": {},
     "output_type": "execute_result"
    }
   ],
   "source": [
    "tf.config.list_physical_devices('GPU')"
   ]
  },
  {
   "cell_type": "code",
   "execution_count": 27,
   "metadata": {},
   "outputs": [],
   "source": [
    "df_train = pd.read_csv(TRAIN_PATH)\n",
    "df_test = pd.read_csv(TEST_PATH)\n",
    "\n",
    "X = df_train.drop(labels=['label'],axis=1)\n",
    "Y = df_train['label']\n",
    "\n",
    "X = X.values.reshape(-1,28,28,1)\n",
    "Y = tf.keras.utils.to_categorical(Y, num_classes=10)"
   ]
  },
  {
   "cell_type": "code",
   "execution_count": 28,
   "metadata": {},
   "outputs": [],
   "source": [
    "\n",
    "df_test = df_test.values.reshape(-1,28,28,1)\n",
    "df_test = df_test / 255"
   ]
  },
  {
   "cell_type": "code",
   "execution_count": 29,
   "metadata": {},
   "outputs": [],
   "source": [
    "X_train, X_val, y_train, y_val = train_test_split(X, Y, test_size=0.2)\n"
   ]
  },
  {
   "cell_type": "code",
   "execution_count": 30,
   "metadata": {},
   "outputs": [],
   "source": [
    "datagen = ImageDataGenerator(rescale=1./255,\n",
    "                             rotation_range = 0.2,\n",
    "                             zoom_range = 0.1,\n",
    "                             width_shift_range = 0.1,\n",
    "                             height_shift_range = 0.1)\n",
    "\n",
    "X_train_generated = datagen.fit(X_train)"
   ]
  },
  {
   "cell_type": "code",
   "execution_count": 31,
   "metadata": {},
   "outputs": [],
   "source": [
    "def CNN():\n",
    "    inputs = layers.Input(shape=(IMG_SIZE, IMG_SIZE, 1))\n",
    "\n",
    "    # First Conv2d layer\n",
    "    lz = layers.Conv2D(filters=32, kernel_size=5, padding='same')(inputs)\n",
    "    lz = layers.Activation('relu')(lz)\n",
    "    lz = layers.Conv2D(filters=32, kernel_size=5, padding='same')(inputs)\n",
    "    lz = layers.Activation('relu')(lz)\n",
    "    lz = layers.MaxPool2D(pool_size=2)(lz)\n",
    "    lz = layers.Dropout(0.25)(lz)\n",
    "\n",
    "    # Second Conv2d layer\n",
    "    lz = layers.Conv2D(filters=64, kernel_size=3, padding='same')(inputs)\n",
    "    lz = layers.Activation('relu')(lz)\n",
    "    lz = layers.Conv2D(filters=64, kernel_size=3, padding='same')(inputs)\n",
    "    lz = layers.Activation('relu')(lz)\n",
    "    lz = layers.MaxPool2D(pool_size=2, strides=2)(lz)\n",
    "    lz = layers.Dropout(0.25)(lz)\n",
    "    \n",
    "    lz = layers.Flatten()(lz)\n",
    "    lz = layers.Dense(256, activation='relu')(lz)\n",
    "    lz = layers.Activation('relu')(lz)\n",
    "    lz = layers.Dropout(0.25)(lz)\n",
    "    output = layers.Dense(10, activation='softmax')(lz)   # use loss as binary_crossentropy\n",
    "    \n",
    "    model = keras.Model(inputs=[inputs], outputs=output)\n",
    "    \n",
    "    return model\n",
    "    "
   ]
  },
  {
   "cell_type": "code",
   "execution_count": 32,
   "metadata": {},
   "outputs": [
    {
     "name": "stdout",
     "output_type": "stream",
     "text": [
      "Model: \"model\"\n",
      "_________________________________________________________________\n",
      " Layer (type)                Output Shape              Param #   \n",
      "=================================================================\n",
      " input_1 (InputLayer)        [(None, 28, 28, 1)]       0         \n",
      "                                                                 \n",
      " conv2d_3 (Conv2D)           (None, 28, 28, 64)        640       \n",
      "                                                                 \n",
      " activation_3 (Activation)   (None, 28, 28, 64)        0         \n",
      "                                                                 \n",
      " max_pooling2d_1 (MaxPooling  (None, 14, 14, 64)       0         \n",
      " 2D)                                                             \n",
      "                                                                 \n",
      " dropout_1 (Dropout)         (None, 14, 14, 64)        0         \n",
      "                                                                 \n",
      " flatten (Flatten)           (None, 12544)             0         \n",
      "                                                                 \n",
      " dense (Dense)               (None, 256)               3211520   \n",
      "                                                                 \n",
      " activation_4 (Activation)   (None, 256)               0         \n",
      "                                                                 \n",
      " dropout_2 (Dropout)         (None, 256)               0         \n",
      "                                                                 \n",
      " dense_1 (Dense)             (None, 10)                2570      \n",
      "                                                                 \n",
      "=================================================================\n",
      "Total params: 3,214,730\n",
      "Trainable params: 3,214,730\n",
      "Non-trainable params: 0\n",
      "_________________________________________________________________\n"
     ]
    }
   ],
   "source": [
    "keras.backend.clear_session()\n",
    "\n",
    "model = CNN()\n",
    "model.compile(loss='categorical_crossentropy', \n",
    "              optimizer = keras.optimizers.Adam(learning_rate=1e-05), \n",
    "              metrics='categorical_accuracy')\n",
    "\n",
    "model.summary()"
   ]
  },
  {
   "cell_type": "code",
   "execution_count": 33,
   "metadata": {},
   "outputs": [
    {
     "name": "stdout",
     "output_type": "stream",
     "text": [
      "Epoch 1/10\n",
      "525/525 [==============================] - 28s 53ms/step - loss: 6.0815 - categorical_accuracy: 0.6199 - val_loss: 0.7168 - val_categorical_accuracy: 0.8892\n",
      "Epoch 2/10\n",
      "525/525 [==============================] - 27s 51ms/step - loss: 1.5665 - categorical_accuracy: 0.7851 - val_loss: 0.3845 - val_categorical_accuracy: 0.9055\n",
      "Epoch 3/10\n",
      "525/525 [==============================] - 28s 53ms/step - loss: 0.9674 - categorical_accuracy: 0.8057 - val_loss: 0.3240 - val_categorical_accuracy: 0.9132\n",
      "Epoch 4/10\n",
      "525/525 [==============================] - 27s 51ms/step - loss: 0.7171 - categorical_accuracy: 0.8281 - val_loss: 0.3222 - val_categorical_accuracy: 0.9107\n",
      "Epoch 5/10\n",
      "525/525 [==============================] - 27s 52ms/step - loss: 0.5880 - categorical_accuracy: 0.8449 - val_loss: 0.2947 - val_categorical_accuracy: 0.9219\n",
      "Epoch 6/10\n",
      "525/525 [==============================] - 27s 52ms/step - loss: 0.5177 - categorical_accuracy: 0.8617 - val_loss: 0.2670 - val_categorical_accuracy: 0.9268\n",
      "Epoch 7/10\n",
      "525/525 [==============================] - 28s 53ms/step - loss: 0.4619 - categorical_accuracy: 0.8783 - val_loss: 0.2447 - val_categorical_accuracy: 0.9363\n",
      "Epoch 8/10\n",
      "525/525 [==============================] - 28s 53ms/step - loss: 0.4068 - categorical_accuracy: 0.8874 - val_loss: 0.2288 - val_categorical_accuracy: 0.9425\n",
      "Epoch 9/10\n",
      "525/525 [==============================] - 28s 54ms/step - loss: 0.3646 - categorical_accuracy: 0.8991 - val_loss: 0.1985 - val_categorical_accuracy: 0.9474\n",
      "Epoch 10/10\n",
      "525/525 [==============================] - 28s 54ms/step - loss: 0.3318 - categorical_accuracy: 0.9095 - val_loss: 0.1928 - val_categorical_accuracy: 0.9492\n"
     ]
    }
   ],
   "source": [
    "history = model.fit(X_train, y_train,\n",
    "          batch_size = BATCH_SIZE, epochs = 10,\n",
    "          validation_data=(X_val, y_val),\n",
    "          steps_per_epoch=(len(X_train)/BATCH_SIZE),\n",
    "          validation_steps=(len(X_val)/BATCH_SIZE))"
   ]
  },
  {
   "cell_type": "code",
   "execution_count": 34,
   "metadata": {},
   "outputs": [
    {
     "name": "stdout",
     "output_type": "stream",
     "text": [
      "[2 0 9 ... 3 9 2]\n"
     ]
    },
    {
     "data": {
      "image/png": "[encoded data removed]",
      "text/plain": [
       "<Figure size 432x288 with 2 Axes>"
      ]
     },
     "metadata": {
      "needs_background": "light"
     },
     "output_type": "display_data"
    }
   ],
   "source": [
    "y_pred = model.predict(X_val)\n",
    "y_pred = np.argmax(y_pred, axis = 1)\n",
    "\n",
    "from sklearn import metrics\n",
    "sns.heatmap(metrics.confusion_matrix(np.argmax(y_val, axis = 1), y_pred), annot=True, fmt='g')\n",
    "\n",
    "output = model.predict(df_test)\n",
    "results = np.argmax(output, axis = 1)\n",
    "print(results)\n",
    "results = pd.Series(results,name=\"Label\")\n",
    "\n",
    "\n",
    "submission = pd.concat([pd.Series(range(1,28001),name = \"ImageId\"),results],axis = 1)\n",
    "submission.to_csv(\"submission.csv\",index=False)\n"
   ]
  }
 ],
 "metadata": {
  "interpreter": {
   "hash": "37abb685732d43f01566678e0288ac1705c61bdf37639e1ec9b5937750280b08"
  },
  "kernelspec": {
   "display_name": "Python 3.9.7 ('datascience')",
   "language": "python",
   "name": "python3"
  },
  "language_info": {
   "codemirror_mode": {
    "name": "ipython",
    "version": 3
   },
   "file_extension": ".py",
   "mimetype": "text/x-python",
   "name": "python",
   "nbconvert_exporter": "python",
   "pygments_lexer": "ipython3",
   "version": "3.9.7"
  },
  "orig_nbformat": 4
 },
 "nbformat": 4,
 "nbformat_minor": 2
}
